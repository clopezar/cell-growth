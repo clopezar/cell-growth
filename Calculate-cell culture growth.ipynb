{
 "cells": [
  {
   "cell_type": "code",
   "execution_count": 3,
   "metadata": {},
   "outputs": [
    {
     "ename": "ImportError",
     "evalue": "\nmahotas.imread depends on one of (in order of preference):\n\n1. imread\n2. freeimage\n3. pillow (PIL)\n\nNone of which could be found!\n\nEverything else will work, though, so this error is only triggered when you\nattempt to use these optional functions.\n\nTo install imread:\n\nOn **Ubuntu**, run the following commands::\n\n    sudo apt-get install libpng12-dev libtiff4-dev libwebp-dev python-pip python-dev g++\n    sudo pip install imread\n\nOn **Mac OS**, if using ``port``, run the following commands::\n\n    sudo port install libpng tiff webp\n    sudo pip install imread\n\nOn **Windows**, use Christoph Gohlke's packages. See:\n\nhttp://www.lfd.uci.edu/~gohlke/pythonlibs/#imread\n\n\n\n\nTo install FreeImage:\n\nYou need to have the freeimage installed for imread/imsave (everything else\nwill work, though, so this error is only triggered when you attempt to use\nthese optional functions). Freeimage is not a Python package, but a regular\npackage.\n\nUnder Linux, look for a package called `freeimage` in your distribution (it is\nactually called `libfreeimage3` in debian/ubuntu, for example).\n\nUnder Windows, consider using the third-party mahotas packages at\nhttp://www.lfd.uci.edu/~gohlke/pythonlibs/ (kindly maintained by Christoph\nGohlke), which already package freeimage.\n\nFull error was: mahotas.freeimage: could not find FreeImage.dll",
     "output_type": "error",
     "traceback": [
      "\u001b[1;31m\u001b[0m",
      "\u001b[1;31mImportError\u001b[0mTraceback (most recent call last)",
      "\u001b[1;32m<ipython-input-3-6d1303728471>\u001b[0m in \u001b[0;36m<module>\u001b[1;34m()\u001b[0m\n\u001b[0;32m      3\u001b[0m \u001b[1;32mimport\u001b[0m \u001b[0mmahotas\u001b[0m \u001b[1;32mas\u001b[0m \u001b[0mmh\u001b[0m\u001b[1;33m\u001b[0m\u001b[0m\n\u001b[0;32m      4\u001b[0m \u001b[1;33m\u001b[0m\u001b[0m\n\u001b[1;32m----> 5\u001b[1;33m \u001b[0mcell\u001b[0m \u001b[1;33m=\u001b[0m \u001b[0mmh\u001b[0m\u001b[1;33m.\u001b[0m\u001b[0mimread\u001b[0m\u001b[1;33m(\u001b[0m\u001b[1;34m'img/GFP_position000000_time0001.tif'\u001b[0m\u001b[1;33m)\u001b[0m\u001b[1;33m\u001b[0m\u001b[0m\n\u001b[0m",
      "\u001b[1;32mC:\\Users\\Carlos\\Anaconda3\\envs\\engg3130\\lib\\site-packages\\mahotas\\io\\__init__.pyc\u001b[0m in \u001b[0;36merror_imread\u001b[1;34m(*args, **kwargs)\u001b[0m\n\u001b[0;32m     47\u001b[0m Full error was: %s'''\n\u001b[0;32m     48\u001b[0m \u001b[1;32mdef\u001b[0m \u001b[0merror_imread\u001b[0m\u001b[1;33m(\u001b[0m\u001b[1;33m*\u001b[0m\u001b[0margs\u001b[0m\u001b[1;33m,\u001b[0m \u001b[1;33m**\u001b[0m\u001b[0mkwargs\u001b[0m\u001b[1;33m)\u001b[0m\u001b[1;33m:\u001b[0m\u001b[1;33m\u001b[0m\u001b[0m\n\u001b[1;32m---> 49\u001b[1;33m     \u001b[1;32mraise\u001b[0m \u001b[0mImportError\u001b[0m\u001b[1;33m(\u001b[0m\u001b[0m_error_message\u001b[0m \u001b[1;33m%\u001b[0m \u001b[1;34m'imread'\u001b[0m\u001b[1;33m)\u001b[0m\u001b[1;33m\u001b[0m\u001b[0m\n\u001b[0m\u001b[0;32m     50\u001b[0m \u001b[1;32mdef\u001b[0m \u001b[0merror_imsave\u001b[0m\u001b[1;33m(\u001b[0m\u001b[1;33m*\u001b[0m\u001b[0margs\u001b[0m\u001b[1;33m,\u001b[0m \u001b[1;33m**\u001b[0m\u001b[0mkwargs\u001b[0m\u001b[1;33m)\u001b[0m\u001b[1;33m:\u001b[0m\u001b[1;33m\u001b[0m\u001b[0m\n\u001b[0;32m     51\u001b[0m     \u001b[1;32mraise\u001b[0m \u001b[0mImportError\u001b[0m\u001b[1;33m(\u001b[0m\u001b[0m_error_message\u001b[0m \u001b[1;33m%\u001b[0m \u001b[1;34m'imsave'\u001b[0m\u001b[1;33m)\u001b[0m\u001b[1;33m\u001b[0m\u001b[0m\n",
      "\u001b[1;31mImportError\u001b[0m: \nmahotas.imread depends on one of (in order of preference):\n\n1. imread\n2. freeimage\n3. pillow (PIL)\n\nNone of which could be found!\n\nEverything else will work, though, so this error is only triggered when you\nattempt to use these optional functions.\n\nTo install imread:\n\nOn **Ubuntu**, run the following commands::\n\n    sudo apt-get install libpng12-dev libtiff4-dev libwebp-dev python-pip python-dev g++\n    sudo pip install imread\n\nOn **Mac OS**, if using ``port``, run the following commands::\n\n    sudo port install libpng tiff webp\n    sudo pip install imread\n\nOn **Windows**, use Christoph Gohlke's packages. See:\n\nhttp://www.lfd.uci.edu/~gohlke/pythonlibs/#imread\n\n\n\n\nTo install FreeImage:\n\nYou need to have the freeimage installed for imread/imsave (everything else\nwill work, though, so this error is only triggered when you attempt to use\nthese optional functions). Freeimage is not a Python package, but a regular\npackage.\n\nUnder Linux, look for a package called `freeimage` in your distribution (it is\nactually called `libfreeimage3` in debian/ubuntu, for example).\n\nUnder Windows, consider using the third-party mahotas packages at\nhttp://www.lfd.uci.edu/~gohlke/pythonlibs/ (kindly maintained by Christoph\nGohlke), which already package freeimage.\n\nFull error was: mahotas.freeimage: could not find FreeImage.dll"
     ]
    }
   ],
   "source": [
    "import numpy as np\n",
    "import pylab\n",
    "import mahotas as mh\n",
    "\n",
    "cell = mh.imread('img/GFP_position000000_time0001.tif')\n"
   ]
  },
  {
   "cell_type": "code",
   "execution_count": 2,
   "metadata": {},
   "outputs": [
    {
     "ename": "NameError",
     "evalue": "name 'dna' is not defined",
     "output_type": "error",
     "traceback": [
      "\u001b[1;31m\u001b[0m",
      "\u001b[1;31mNameError\u001b[0mTraceback (most recent call last)",
      "\u001b[1;32m<ipython-input-2-5df9ca9d12fa>\u001b[0m in \u001b[0;36m<module>\u001b[1;34m()\u001b[0m\n\u001b[1;32m----> 1\u001b[1;33m \u001b[0mpylab\u001b[0m\u001b[1;33m.\u001b[0m\u001b[0mimshow\u001b[0m\u001b[1;33m(\u001b[0m\u001b[0mdna\u001b[0m\u001b[1;33m)\u001b[0m\u001b[1;33m\u001b[0m\u001b[0m\n\u001b[0m\u001b[0;32m      2\u001b[0m \u001b[0mpylab\u001b[0m\u001b[1;33m.\u001b[0m\u001b[0mshow\u001b[0m\u001b[1;33m(\u001b[0m\u001b[1;33m)\u001b[0m\u001b[1;33m\u001b[0m\u001b[0m\n",
      "\u001b[1;31mNameError\u001b[0m: name 'dna' is not defined"
     ]
    }
   ],
   "source": [
    "pylab.imshow(dna)\n",
    "pylab.show()"
   ]
  },
  {
   "cell_type": "code",
   "execution_count": null,
   "metadata": {
    "collapsed": true
   },
   "outputs": [],
   "source": []
  }
 ],
 "metadata": {
  "kernelspec": {
   "display_name": "Python 2",
   "language": "python",
   "name": "python2"
  },
  "language_info": {
   "codemirror_mode": {
    "name": "ipython",
    "version": 2
   },
   "file_extension": ".py",
   "mimetype": "text/x-python",
   "name": "python",
   "nbconvert_exporter": "python",
   "pygments_lexer": "ipython2",
   "version": "2.7.12"
  }
 },
 "nbformat": 4,
 "nbformat_minor": 2
}
